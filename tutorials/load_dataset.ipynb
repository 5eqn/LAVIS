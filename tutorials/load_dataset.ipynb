{
 "cells": [
  {
   "cell_type": "code",
   "execution_count": 1,
   "metadata": {},
   "outputs": [],
   "source": [
    "# import sys\n",
    "# sys.path.insert(0,'/export/home/workspace/LAVIS')\n",
    "\n",
    "from lavis.datasets.builders import load_dataset, list_datasets\n",
    "from lavis.processors import load_processor"
   ]
  },
  {
   "cell_type": "code",
   "execution_count": 2,
   "metadata": {},
   "outputs": [
    {
     "data": {
      "text/plain": [
       "dict_keys(['coco_caption', 'conceptual_caption_3m', 'conceptual_caption_12m', 'nlvr', 'sbu_caption', 'snli_ve', 'vg_caption', 'imagenet', 'msrvtt_qa', 'msvd_qa', 'coco_vqa', 'vg_vqa', 'ok_vqa', 'aok_vqa', 'msrvtt_retrieval', 'didemo_retrieval', 'coco_retrieval', 'flickr30k'])"
      ]
     },
     "execution_count": 2,
     "metadata": {},
     "output_type": "execute_result"
    }
   ],
   "source": [
    "list_datasets().keys()"
   ]
  },
  {
   "cell_type": "code",
   "execution_count": 4,
   "metadata": {},
   "outputs": [
    {
     "name": "stdout",
     "output_type": "stream",
     "text": [
      "Using downloaded and verified file: /export/home/.cache/lavis/coco/annotations/vqa_train.json\n",
      "Using downloaded and verified file: /export/home/.cache/lavis/coco/annotations/vqa_val.json\n",
      "Using downloaded and verified file: /export/home/.cache/lavis/coco/annotations/vqa_val_eval.json\n",
      "Using downloaded and verified file: /export/home/.cache/lavis/coco/annotations/answer_list.json\n",
      "Using downloaded and verified file: /export/home/.cache/lavis/coco/annotations/v2_OpenEnded_mscoco_val2014_questions.json\n",
      "Using downloaded and verified file: /export/home/.cache/lavis/coco/annotations/v2_mscoco_val2014_annotations.json\n",
      "Using downloaded and verified file: /export/home/.cache/lavis/coco/annotations/vqa_test.json\n",
      "Using downloaded and verified file: /export/home/.cache/lavis/coco/annotations/answer_list.json\n"
     ]
    }
   ],
   "source": [
    "dataset = load_dataset(\"coco_vqa\", cfg_path=None)"
   ]
  },
  {
   "cell_type": "code",
   "execution_count": 5,
   "metadata": {},
   "outputs": [
    {
     "data": {
      "text/plain": [
       "dict_keys(['train', 'val', 'test'])"
      ]
     },
     "execution_count": 5,
     "metadata": {},
     "output_type": "execute_result"
    }
   ],
   "source": [
    "dataset.keys()"
   ]
  },
  {
   "cell_type": "code",
   "execution_count": 6,
   "metadata": {},
   "outputs": [
    {
     "data": {
      "text/plain": [
       "447793"
      ]
     },
     "execution_count": 6,
     "metadata": {},
     "output_type": "execute_result"
    }
   ],
   "source": [
    "len(dataset['test'])"
   ]
  },
  {
   "cell_type": "code",
   "execution_count": 7,
   "metadata": {},
   "outputs": [],
   "source": [
    "LOAD_PROCESSOR = False\n",
    "\n",
    "if LOAD_PROCESSOR:\n",
    "    img_proc = load_processor(\"blip_image_eval\")\n",
    "    txt_proc = load_processor(\"blip_caption\")\n",
    "\n",
    "    dataset['test'].set_processors(vis_processor=img_proc, text_processor=txt_proc)"
   ]
  },
  {
   "cell_type": "code",
   "execution_count": null,
   "metadata": {},
   "outputs": [],
   "source": []
  },
  {
   "cell_type": "code",
   "execution_count": 8,
   "metadata": {},
   "outputs": [
    {
     "name": "stdout",
     "output_type": "stream",
     "text": [
      "(640, 480) Is the ball flying towards the batter? 262144000\n"
     ]
    }
   ],
   "source": [
    "for sample in dataset['test']:\n",
    "    print(sample['image'].size, sample['text_input'], sample['question_id'])\n",
    "    # print(sample['image'].shape, sample['text_input'], sample['question_id'])\n",
    "    break"
   ]
  },
  {
   "cell_type": "code",
   "execution_count": 10,
   "metadata": {},
   "outputs": [
    {
     "name": "stdout",
     "output_type": "stream",
     "text": [
      "dict_keys(['image', 'text_input', 'answers', 'weights'])\n",
      "(640, 480) What is this photo taken looking through?\n"
     ]
    }
   ],
   "source": [
    "for sample in dataset['train']:\n",
    "    print(sample.keys())\n",
    "    print(sample['image'].size, sample['text_input'])\n",
    "    # print(sample['image'].shape, sample['text_input'], sample['question_id'])\n",
    "    break"
   ]
  }
 ],
 "metadata": {
  "kernelspec": {
   "display_name": "Python 3.8.10 ('base')",
   "language": "python",
   "name": "python3"
  },
  "language_info": {
   "codemirror_mode": {
    "name": "ipython",
    "version": 3
   },
   "file_extension": ".py",
   "mimetype": "text/x-python",
   "name": "python",
   "nbconvert_exporter": "python",
   "pygments_lexer": "ipython3",
   "version": "3.8.10"
  },
  "orig_nbformat": 4,
  "vscode": {
   "interpreter": {
    "hash": "d4d1e4263499bec80672ea0156c357c1ee493ec2b1c70f0acce89fc37c4a6abe"
   }
  }
 },
 "nbformat": 4,
 "nbformat_minor": 2
}
