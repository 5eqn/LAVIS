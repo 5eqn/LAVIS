{
 "cells": [
  {
   "cell_type": "code",
   "execution_count": 1,
   "metadata": {},
   "outputs": [
    {
     "name": "stderr",
     "output_type": "stream",
     "text": [
      "/opt/conda/lib/python3.8/site-packages/torchvision/transforms/_functional_video.py:5: UserWarning: The _functional_video module is deprecated. Please use the functional module instead.\n",
      "  warnings.warn(\n",
      "/opt/conda/lib/python3.8/site-packages/torchvision/transforms/_transforms_video.py:25: UserWarning: The _transforms_video module is deprecated. Please use the transforms module instead.\n",
      "  warnings.warn(\n"
     ]
    }
   ],
   "source": [
    "from lavis.processors.alpro_processors import AlproVideoTrainProcessor as proc\n",
    "from lavis.datasets.data_utils import load_video"
   ]
  },
  {
   "cell_type": "code",
   "execution_count": 5,
   "metadata": {},
   "outputs": [
    {
     "name": "stdout",
     "output_type": "stream",
     "text": [
      "torch.Size([3, 330, 240, 320])\n",
      "torch.float32\n",
      "torch.Size([3, 320, 330, 240])\n"
     ]
    }
   ],
   "source": [
    "vpath = \"/export/share/dongxuli/data/msrvtt_qa/videos/video701.mp4\"\n",
    "x = load_video(vpath)\n",
    "print(x.shape)\n",
    "print(x.dtype)\n",
    "print(x.permute(1, 0, 2, 3).shape)"
   ]
  },
  {
   "cell_type": "code",
   "execution_count": 3,
   "metadata": {},
   "outputs": [],
   "source": [
    "tsfm = proc()\n",
    "y = tsfm(x)"
   ]
  },
  {
   "cell_type": "code",
   "execution_count": 4,
   "metadata": {},
   "outputs": [
    {
     "name": "stdout",
     "output_type": "stream",
     "text": [
      "torch.Size([330, 384, 384, 3])\n",
      "tensor(255, dtype=torch.uint8) tensor(0, dtype=torch.uint8)\n"
     ]
    }
   ],
   "source": [
    "y.shape\n",
    "print(y.shape)\n",
    "print(y.max(), y.min())"
   ]
  },
  {
   "cell_type": "code",
   "execution_count": null,
   "metadata": {},
   "outputs": [],
   "source": [
    "from torchvision.transforms import RandomResizedCrop\n",
    "\n",
    "class RandomResizedCropVideo(RandomResizedCrop):\n",
    "    def __init__(\n",
    "        self,\n",
    "        size,\n",
    "        scale=(0.08, 1.0),\n",
    "        ratio=(3.0 / 4.0, 4.0 / 3.0),\n",
    "        interpolation_mode=\"bilinear\",\n",
    "    ):\n",
    "        if isinstance(size, tuple):\n",
    "            assert len(size) == 2, \"size should be tuple (height, width)\"\n",
    "            self.size = size\n",
    "        else:\n",
    "            self.size = (size, size)\n",
    "\n",
    "        self.interpolation_mode = interpolation_mode\n",
    "        self.scale = scale\n",
    "        self.ratio = ratio\n",
    "\n",
    "    def __call__(self, clip):\n",
    "        \"\"\"\n",
    "        Args:\n",
    "            clip (torch.tensor): Video clip to be cropped. Size is (C, T, H, W)\n",
    "        Returns:\n",
    "            torch.tensor: randomly cropped/resized video clip.\n",
    "                size is (C, T, H, W)\n",
    "        \"\"\"\n",
    "        i, j, h, w = self.get_params(clip, self.scale, self.ratio)\n",
    "        return F.resized_crop(clip, i, j, h, w, self.size, self.interpolation_mode)\n",
    "\n",
    "    def __repr__(self):\n",
    "        return self.__class__.__name__ + \\\n",
    "            '(size={0}, interpolation_mode={1}, scale={2}, ratio={3})'.format(\n",
    "                self.size, self.interpolation_mode, self.scale, self.ratio\n",
    "            )"
   ]
  },
  {
   "cell_type": "code",
   "execution_count": null,
   "metadata": {},
   "outputs": [],
   "source": [
    "from torchvision.transforms import _functional_video as F\n",
    "rrcv = RandomResizedCropVideo(224)\n",
    "y = rrcv(x)"
   ]
  },
  {
   "cell_type": "code",
   "execution_count": null,
   "metadata": {},
   "outputs": [],
   "source": [
    "x.float()[0, 0, 0, :10]\n",
    "import torch\n",
    "z = x.to(torch.uint8)\n",
    "print(z[0, 0, 0, :10])"
   ]
  },
  {
   "cell_type": "code",
   "execution_count": null,
   "metadata": {},
   "outputs": [],
   "source": [
    "from lavis.models import model_zoo, load_model"
   ]
  },
  {
   "cell_type": "code",
   "execution_count": null,
   "metadata": {},
   "outputs": [],
   "source": [
    "model_zoo"
   ]
  }
 ],
 "metadata": {
  "kernelspec": {
   "display_name": "Python 3.8.10 ('base')",
   "language": "python",
   "name": "python3"
  },
  "language_info": {
   "codemirror_mode": {
    "name": "ipython",
    "version": 3
   },
   "file_extension": ".py",
   "mimetype": "text/x-python",
   "name": "python",
   "nbconvert_exporter": "python",
   "pygments_lexer": "ipython3",
   "version": "3.8.10"
  },
  "orig_nbformat": 4,
  "vscode": {
   "interpreter": {
    "hash": "d4d1e4263499bec80672ea0156c357c1ee493ec2b1c70f0acce89fc37c4a6abe"
   }
  }
 },
 "nbformat": 4,
 "nbformat_minor": 2
}
